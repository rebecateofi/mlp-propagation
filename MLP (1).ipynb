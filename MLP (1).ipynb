{
 "cells": [
  {
   "cell_type": "code",
   "execution_count": 1,
   "id": "924d5a3d",
   "metadata": {},
   "outputs": [
    {
     "name": "stdout",
     "output_type": "stream",
     "text": [
      "r2 MLP: -0.08714408973252818\n",
      "r2 RL: -0.5674733899585096\n"
     ]
    }
   ],
   "source": [
    "import pandas as pd\n",
    "import numpy as np\n",
    "import matplotlib.pyplot as plt\n",
    "import random\n",
    "from sklearn.preprocessing import StandardScaler\n",
    "from sklearn.model_selection import train_test_split\n",
    "from sklearn.metrics import r2_score\n",
    "from sklearn.linear_model import SGDRegressor\n",
    "from sklearn.neural_network import MLPClassifier\n",
    "from sklearn import neural_network\n",
    "\n",
    "clime = pd.read_csv(\"c:\\\\users\\\\user\\\\Desktop\\\\treino.csv\")\n",
    "\n",
    "numero_aleatorio = random.randint(1, 100)\n",
    "X = clime.drop('id', axis=1)\n",
    "X = clime.drop('target', axis=1)\n",
    "y = clime['target']\n",
    "X_train, X_test, y_train, y_test = train_test_split(X, y, test_size=0.3, random_state=numero_aleatorio)\n",
    "\n",
    "mlp = MLPClassifier(max_iter=500, alpha=0.0001, momentum=0.9, hidden_layer_sizes=(10, 10), random_state=numero_aleatorio)\n",
    "mlp.fit(X_train, y_train)\n",
    "reglinear = neural_network.MLPRegressor(max_iter=500)\n",
    "reglinear.fit(X_train, y_train)\n",
    "\n",
    "pred_mlp = mlp.predict(X_test)\n",
    "pred_rl = reglinear.predict(X_test)\n",
    "\n",
    "r2_mlp = r2_score(y_test, pred_mlp)\n",
    "r2_rl = r2_score(y_test, pred_rl)\n",
    "\n",
    "print('r2 MLP:', r2_mlp)\n",
    "print('r2 RL:', r2_rl)\n"
   ]
  },
  {
   "cell_type": "code",
   "execution_count": 79,
   "id": "e04fc95d",
   "metadata": {},
   "outputs": [
    {
     "name": "stdout",
     "output_type": "stream",
     "text": [
      "r2 MLP  -0.08996539792387548\n",
      "r2 RL  -0.6795002962173957\n"
     ]
    }
   ],
   "source": []
  },
  {
   "cell_type": "code",
   "execution_count": null,
   "id": "185afa95",
   "metadata": {},
   "outputs": [],
   "source": []
  },
  {
   "cell_type": "code",
   "execution_count": null,
   "id": "cc230b72",
   "metadata": {},
   "outputs": [],
   "source": []
  }
 ],
 "metadata": {
  "kernelspec": {
   "display_name": "Python 3 (ipykernel)",
   "language": "python",
   "name": "python3"
  },
  "language_info": {
   "codemirror_mode": {
    "name": "ipython",
    "version": 3
   },
   "file_extension": ".py",
   "mimetype": "text/x-python",
   "name": "python",
   "nbconvert_exporter": "python",
   "pygments_lexer": "ipython3",
   "version": "3.9.7"
  }
 },
 "nbformat": 4,
 "nbformat_minor": 5
}
